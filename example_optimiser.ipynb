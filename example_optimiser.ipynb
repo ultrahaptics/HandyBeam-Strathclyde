{
 "cells": [
  {
   "cell_type": "markdown",
   "metadata": {
    "toc": true
   },
   "source": [
    "<h1>Table of Contents<span class=\"tocSkip\"></span></h1>\n",
    "<div class=\"toc\"><ul class=\"toc-item\"></ul></div>"
   ]
  },
  {
   "cell_type": "code",
   "execution_count": 8,
   "metadata": {
    "ExecuteTime": {
     "end_time": "2019-06-19T14:04:59.009747Z",
     "start_time": "2019-06-19T14:04:59.004761Z"
    }
   },
   "outputs": [
    {
     "data": {
      "text/html": [
       "applying full width style...<style>.container { width:100% !important; }</style>"
      ],
      "text/plain": [
       "<IPython.core.display.HTML object>"
      ]
     },
     "metadata": {},
     "output_type": "display_data"
    }
   ],
   "source": [
    "# run this on top of all of Your notebooks -- it does all the dirty imports.\n",
    "exec(open('initialize_jupyter_handybeam.py').read())\n",
    "import strathclyde"
   ]
  },
  {
   "cell_type": "code",
   "execution_count": 71,
   "metadata": {
    "ExecuteTime": {
     "end_time": "2019-06-19T16:04:20.413901Z",
     "start_time": "2019-06-19T16:04:20.406888Z"
    }
   },
   "outputs": [
    {
     "data": {
      "text/plain": [
       "Basic linear probe:\n",
       "> Environment:\n",
       ">>   radiation frequency: 500.0kHz\n",
       ">>   sound_velocity :5600.0m/s\n",
       ">>   sound wave length :11.200mm\n",
       ">>   medium wavenumber: 89.3[waves/meter]\n",
       ">>   point sources sampling density: 11pt/lambda linear, spacing of 1.018mm\n",
       "  \n",
       "> Probe definition:\n",
       ">>   Passive aperture: 32.0mm\n",
       ">>   element width: 1.000mm\n",
       ">>   element count: 16\n",
       "  \n",
       "> Probe calculated properties:\n",
       ">>   inter-element gap: 2.0mm\n",
       ">>   Active aperture: 48.0mm\n",
       ">>   Active aperture near field transition/boundary: 51.4mm\n",
       ">>   Passive aperture near field transition/boundary: 22.9mm\n",
       "  \n",
       "> Focal point calculated properties:\n",
       ">>   focal distance: 50.0mm\n",
       ">>   active aperture -6dB focal spot size: 11.9mm\n",
       ">>   passive aperture -6dB natural focus spot size: 8.2mm"
      ]
     },
     "execution_count": 71,
     "metadata": {},
     "output_type": "execute_result"
    }
   ],
   "source": [
    "# run the process once to see the data output format\n",
    "focal_point=(0.0,30e-3,40e-3)\n",
    "focal_radius=np.sqrt(focal_point[0]**2+focal_point[1]**2+focal_point[2]**2)\n",
    "importlib.reload(strathclyde) # this makes sure that any changes to the source code are being used in this session\n",
    "array_builder=strathclyde.LinearArray(\n",
    "    radiation_frequency=500e3,\n",
    "    sound_velocity=5600,\n",
    "    sampling_density=11,\n",
    "    passive_aperture=32e-3,\n",
    "    element_pitch=3e-3,\n",
    "    element_width=1e-3,\n",
    "    element_count=16,\n",
    "    focal_point=focal_point,\n",
    "    amplitude_setting=1e4)\n",
    "array_builder"
   ]
  },
  {
   "cell_type": "code",
   "execution_count": 72,
   "metadata": {
    "ExecuteTime": {
     "end_time": "2019-06-19T16:04:23.075168Z",
     "start_time": "2019-06-19T16:04:23.070181Z"
    }
   },
   "outputs": [
    {
     "data": {
      "text/plain": [
       "{'radiation_frequency': 500000.0,\n",
       " 'sound_velocity': 5600,\n",
       " 'wavelength': 0.0112,\n",
       " 'wavenumber': 89.28571428571429,\n",
       " 'sampling_density_setting': 11,\n",
       " 'sampling_density_effective': 0.0010181818181818183,\n",
       " 'passive_aperture': 0.032,\n",
       " 'element_width': 0.001,\n",
       " 'element_count': 16,\n",
       " 'element_gap': 0.002,\n",
       " 'active_aperture': 0.048,\n",
       " 'active_aperture_nearfield_boundary': 0.05142857142857143,\n",
       " 'passive_aperture_nearfield_boundary': 0.022857142857142857,\n",
       " 'current_focal_point_distance': 0.05,\n",
       " 'active_aperture_focus_power_estimate': 0.011899999999999999,\n",
       " 'passive_aperture_focus_power_estimate': 0.008159999999999999}"
      ]
     },
     "execution_count": 72,
     "metadata": {},
     "output_type": "execute_result"
    }
   ],
   "source": [
    "array_builder.stats"
   ]
  },
  {
   "cell_type": "code",
   "execution_count": 14,
   "metadata": {
    "ExecuteTime": {
     "end_time": "2019-06-19T14:08:10.458694Z",
     "start_time": "2019-06-19T14:08:09.992780Z"
    }
   },
   "outputs": [],
   "source": [
    "# load the library with general purpose minimizers\n",
    "import scipy.optimize\n",
    "# see https://docs.scipy.org/doc/scipy/reference/generated/scipy.optimize.minimize.html#scipy.optimize.minimize"
   ]
  },
  {
   "cell_type": "code",
   "execution_count": 76,
   "metadata": {
    "ExecuteTime": {
     "end_time": "2019-06-19T16:07:41.743726Z",
     "start_time": "2019-06-19T16:07:41.731759Z"
    }
   },
   "outputs": [
    {
     "name": "stdout",
     "output_type": "stream",
     "text": [
      "Optimization terminated successfully.\n",
      "         Current function value: 0.000477\n",
      "         Iterations: 17\n",
      "         Function evaluations: 34\n"
     ]
    },
    {
     "data": {
      "text/plain": [
       " final_simplex: (array([[0.29929688],\n",
       "       [0.299375  ]]), array([0.00047725, 0.00056676]))\n",
       "           fun: 0.0004772458757560383\n",
       "       message: 'Optimization terminated successfully.'\n",
       "          nfev: 34\n",
       "           nit: 17\n",
       "        status: 0\n",
       "       success: True\n",
       "             x: array([0.29929688])"
      ]
     },
     "execution_count": 76,
     "metadata": {},
     "output_type": "execute_result"
    }
   ],
   "source": [
    "# quest: optimize passive_aperture to achieve passive_aperture_nearfield_boundary of 1.0\n",
    "\n",
    "passive_aperture_nearfield_boundary_target=2.0\n",
    "\n",
    "# define cost function:\n",
    "\n",
    "def costFunction(adjustable_variable):\n",
    "    # do the calculation\n",
    "    array_builder=strathclyde.LinearArray(\n",
    "                radiation_frequency=500e3,\n",
    "                sound_velocity=5600,\n",
    "                sampling_density=11,                \n",
    "                passive_aperture=adjustable_variable, # ! note: adjustable_variable=passive_aperture\n",
    "                element_pitch=3e-3,\n",
    "                element_width=2e-3,\n",
    "                element_count=16,\n",
    "                focal_point=focal_point,\n",
    "                amplitude_setting=1e4)\n",
    "    stats=array_builder.stats    \n",
    "    \n",
    "    # Core: The cost function\n",
    "    cost=np.abs(stats.passive_aperture_nearfield_boundary - passive_aperture_nearfield_boundary_target)\n",
    "    \n",
    "    return cost\n",
    "\n",
    "# define a starting point\n",
    "passive_aperture_nearfield_boundary_starting_point=50e-3\n",
    "starting_point=passive_aperture_nearfield_boundary_starting_point # starting point \n",
    "tolerance_on_adjustable_variable=1e-4\n",
    "tolerance_on_cost_function=1e-4\n",
    "\n",
    "result = scipy.optimize.minimize(costFunction, starting_point, method='Nelder-Mead',\n",
    "             options={'xatol': tolerance_on_adjustable_variable, 'fatol': tolerance_on_cost_function, 'disp': True})\n",
    "\n",
    "result"
   ]
  },
  {
   "cell_type": "code",
   "execution_count": 90,
   "metadata": {
    "ExecuteTime": {
     "end_time": "2019-06-19T16:11:00.030672Z",
     "start_time": "2019-06-19T16:11:00.024656Z"
    }
   },
   "outputs": [
    {
     "name": "stdout",
     "output_type": "stream",
     "text": [
      "for passive_aperture=299.30mm: effective passive_aperture_nearfield_boundary=1999.52mm\n",
      "\n"
     ]
    },
    {
     "data": {
      "text/plain": [
       "Basic linear probe:\n",
       "> Environment:\n",
       ">>   radiation frequency: 500.0kHz\n",
       ">>   sound_velocity :5600.0m/s\n",
       ">>   sound wave length :11.200mm\n",
       ">>   medium wavenumber: 89.3[waves/meter]\n",
       ">>   point sources sampling density: 11pt/lambda linear, spacing of 1.018mm\n",
       "  \n",
       "> Probe definition:\n",
       ">>   Passive aperture: 299.3mm\n",
       ">>   element width: 2.000mm\n",
       ">>   element count: 16\n",
       "  \n",
       "> Probe calculated properties:\n",
       ">>   inter-element gap: 1.0mm\n",
       ">>   Active aperture: 48.0mm\n",
       ">>   Active aperture near field transition/boundary: 51.4mm\n",
       ">>   Passive aperture near field transition/boundary: 1999.5mm\n",
       "  \n",
       "> Focal point calculated properties:\n",
       ">>   focal distance: 50.0mm\n",
       ">>   active aperture -6dB focal spot size: 11.9mm\n",
       ">>   passive aperture -6dB natural focus spot size: 76.3mm"
      ]
     },
     "execution_count": 90,
     "metadata": {},
     "output_type": "execute_result"
    }
   ],
   "source": [
    "# verify that the result is correct -- supply the result.x[0] to the array_builder\n",
    "array_builder=strathclyde.LinearArray(\n",
    "    radiation_frequency=500e3,\n",
    "    sound_velocity=5600,\n",
    "    sampling_density=11,\n",
    "    #passive_aperture=32e-3,\n",
    "    passive_aperture=result.x[0], # ! Use the result from the cost function minimiser\n",
    "    element_pitch=3e-3,\n",
    "    element_width=2e-3,\n",
    "    element_count=16,\n",
    "    focal_point=focal_point,\n",
    "    amplitude_setting=1e4)\n",
    "print('for passive_aperture={:0.2f}mm: effective passive_aperture_nearfield_boundary={:0.2f}mm'.format(1e3*result.x[0], 1e3*array_builder.stats.passive_aperture_nearfield_boundary))\n",
    "print('')\n",
    "array_builder"
   ]
  },
  {
   "cell_type": "code",
   "execution_count": null,
   "metadata": {},
   "outputs": [],
   "source": []
  }
 ],
 "metadata": {
  "kernelspec": {
   "display_name": "Python 3",
   "language": "python",
   "name": "python3"
  },
  "language_info": {
   "codemirror_mode": {
    "name": "ipython",
    "version": 3
   },
   "file_extension": ".py",
   "mimetype": "text/x-python",
   "name": "python",
   "nbconvert_exporter": "python",
   "pygments_lexer": "ipython3",
   "version": "3.6.5"
  },
  "toc": {
   "base_numbering": 1,
   "nav_menu": {},
   "number_sections": true,
   "sideBar": true,
   "skip_h1_title": false,
   "title_cell": "Table of Contents",
   "title_sidebar": "Contents",
   "toc_cell": true,
   "toc_position": {
    "height": "calc(100% - 180px)",
    "left": "10px",
    "top": "150px",
    "width": "165px"
   },
   "toc_section_display": true,
   "toc_window_display": true
  },
  "varInspector": {
   "cols": {
    "lenName": 16,
    "lenType": 16,
    "lenVar": 40
   },
   "kernels_config": {
    "python": {
     "delete_cmd_postfix": "",
     "delete_cmd_prefix": "del ",
     "library": "var_list.py",
     "varRefreshCmd": "print(var_dic_list())"
    },
    "r": {
     "delete_cmd_postfix": ") ",
     "delete_cmd_prefix": "rm(",
     "library": "var_list.r",
     "varRefreshCmd": "cat(var_dic_list()) "
    }
   },
   "types_to_exclude": [
    "module",
    "function",
    "builtin_function_or_method",
    "instance",
    "_Feature"
   ],
   "window_display": false
  }
 },
 "nbformat": 4,
 "nbformat_minor": 2
}
